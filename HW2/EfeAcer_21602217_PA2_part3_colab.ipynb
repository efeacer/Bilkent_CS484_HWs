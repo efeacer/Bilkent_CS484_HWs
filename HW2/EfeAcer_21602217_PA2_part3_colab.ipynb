{
  "nbformat": 4,
  "nbformat_minor": 0,
  "metadata": {
    "kernelspec": {
      "name": "python3",
      "display_name": "Python 3"
    },
    "language_info": {
      "codemirror_mode": {
        "name": "ipython",
        "version": 3
      },
      "file_extension": ".py",
      "mimetype": "text/x-python",
      "name": "python",
      "nbconvert_exporter": "python",
      "pygments_lexer": "ipython3",
      "version": "3.7.6"
    },
    "colab": {
      "name": "EfeAcer_21602217_PA2_part3_colab.ipynb",
      "provenance": [],
      "collapsed_sections": []
    },
    "accelerator": "GPU"
  },
  "cells": [
    {
      "cell_type": "markdown",
      "metadata": {
        "id": "FUrJMe2f7HVn",
        "colab_type": "text"
      },
      "source": [
        "# CS484 - Programming Assignment 2 "
      ]
    },
    {
      "cell_type": "markdown",
      "metadata": {
        "id": "x70viFeg7HVn",
        "colab_type": "text"
      },
      "source": [
        "## Part 3"
      ]
    },
    {
      "cell_type": "markdown",
      "metadata": {
        "id": "diap-Nj_7HW7",
        "colab_type": "text"
      },
      "source": [
        "Make sure that tensorboardcolab is installed."
      ]
    },
    {
      "cell_type": "code",
      "metadata": {
        "id": "rKGF5Uzi7Z7H",
        "colab_type": "code",
        "colab": {
          "base_uri": "https://localhost:8080/",
          "height": 34
        },
        "outputId": "1425c498-6c06-4fd6-e10e-bea4223b16c5"
      },
      "source": [
        "!pip install tensorboardcolab"
      ],
      "execution_count": 1,
      "outputs": [
        {
          "output_type": "stream",
          "text": [
            "Requirement already satisfied: tensorboardcolab in /usr/local/lib/python3.6/dist-packages (0.0.22)\n"
          ],
          "name": "stdout"
        }
      ]
    },
    {
      "cell_type": "code",
      "metadata": {
        "id": "yOlZJRO37HW8",
        "colab_type": "code",
        "colab": {
          "base_uri": "https://localhost:8080/",
          "height": 34
        },
        "outputId": "1a1747de-80bc-42fc-a743-a6f3752b656f"
      },
      "source": [
        "%tensorflow_version 1.x\n",
        "\n",
        "# Load the TensorBoard notebook extension.\n",
        "%load_ext tensorboard"
      ],
      "execution_count": 2,
      "outputs": [
        {
          "output_type": "stream",
          "text": [
            "TensorFlow 1.x selected.\n"
          ],
          "name": "stdout"
        }
      ]
    },
    {
      "cell_type": "markdown",
      "metadata": {
        "id": "PceMRiTf7HW-",
        "colab_type": "text"
      },
      "source": [
        "Import the necessary **keras** packages. mnist is no longer imported since we are using our own cat dataset."
      ]
    },
    {
      "cell_type": "code",
      "metadata": {
        "id": "FpKTn37j7HW-",
        "colab_type": "code",
        "colab": {
          "base_uri": "https://localhost:8080/",
          "height": 34
        },
        "outputId": "e8f9f4fc-ec9c-427b-a0a1-a9b01f881793"
      },
      "source": [
        "from __future__ import print_function\n",
        "import keras\n",
        "from keras.models import Sequential\n",
        "from keras.layers import Dense, Dropout, Flatten\n",
        "from keras.layers import Conv2D, MaxPooling2D\n",
        "from keras import backend as K\n",
        "from tensorboardcolab import *\n",
        "import h5py # to read the dataset\n",
        "import numpy as np"
      ],
      "execution_count": 3,
      "outputs": [
        {
          "output_type": "stream",
          "text": [
            "Using TensorFlow backend.\n"
          ],
          "name": "stderr"
        }
      ]
    },
    {
      "cell_type": "markdown",
      "metadata": {
        "id": "M-zl_FJjbQ1a",
        "colab_type": "text"
      },
      "source": [
        "Connect to Google Drive\n"
      ]
    },
    {
      "cell_type": "code",
      "metadata": {
        "id": "9Jnqe53AbYCR",
        "colab_type": "code",
        "colab": {
          "base_uri": "https://localhost:8080/",
          "height": 34
        },
        "outputId": "5eafd6eb-1811-47e5-e51e-88c1df166fe2"
      },
      "source": [
        "from google.colab import drive\n",
        "drive.mount('/content/drive')"
      ],
      "execution_count": 4,
      "outputs": [
        {
          "output_type": "stream",
          "text": [
            "Drive already mounted at /content/drive; to attempt to forcibly remount, call drive.mount(\"/content/drive\", force_remount=True).\n"
          ],
          "name": "stdout"
        }
      ]
    },
    {
      "cell_type": "markdown",
      "metadata": {
        "id": "HF0YBKUmcL0Q",
        "colab_type": "text"
      },
      "source": [
        "Set the below paths according to your drive contents."
      ]
    },
    {
      "cell_type": "code",
      "metadata": {
        "id": "hPYXEOGqcRT_",
        "colab_type": "code",
        "colab": {}
      },
      "source": [
        "train_path = '/content/drive/My Drive/CS484HW2/train_catvnoncat.h5'\n",
        "test_path = '/content/drive/My Drive/CS484HW2/test_catvnoncat.h5'"
      ],
      "execution_count": 0,
      "outputs": []
    },
    {
      "cell_type": "markdown",
      "metadata": {
        "id": "FLF4sPA1cs7N",
        "colab_type": "text"
      },
      "source": [
        "Read the data."
      ]
    },
    {
      "cell_type": "code",
      "metadata": {
        "id": "f7e2AvoocuT9",
        "colab_type": "code",
        "colab": {}
      },
      "source": [
        "train = h5py.File(train_path, 'r')\n",
        "x_train = np.array(train['train_set_x'])\n",
        "y_train = np.array(train['train_set_y'])"
      ],
      "execution_count": 0,
      "outputs": []
    },
    {
      "cell_type": "code",
      "metadata": {
        "id": "JEF4q-UIbje6",
        "colab_type": "code",
        "colab": {}
      },
      "source": [
        "test = h5py.File(test_path, 'r')\n",
        "x_test = np.array(test['test_set_x'])\n",
        "y_test = np.array(test['test_set_y'])"
      ],
      "execution_count": 0,
      "outputs": []
    },
    {
      "cell_type": "markdown",
      "metadata": {
        "id": "aPramV_m7HXB",
        "colab_type": "text"
      },
      "source": [
        "Initialize batch size, input dimensions, number of classes and total epochs. Batch size is changed to 209 since we utilize all of the training samples in each iteration. Image dimensions are changed to be 64x64, and number of classes is obviously set to 2 (one class for cats, another class for non-cats). "
      ]
    },
    {
      "cell_type": "code",
      "metadata": {
        "id": "aDu-aEeX7HXB",
        "colab_type": "code",
        "colab": {}
      },
      "source": [
        "batch_size, img_rows, img_cols, _ = x_train.shape \n",
        "num_classes = 2 # cat and non-cat "
      ],
      "execution_count": 0,
      "outputs": []
    },
    {
      "cell_type": "markdown",
      "metadata": {
        "id": "RkL6RLA07HXE",
        "colab_type": "text"
      },
      "source": [
        "Change the number of channels from 1 to 3."
      ]
    },
    {
      "cell_type": "code",
      "metadata": {
        "id": "lXtxsw8F7HXF",
        "colab_type": "code",
        "colab": {}
      },
      "source": [
        "if K.image_data_format() == 'channels_first':\n",
        "    x_train = x_train.reshape(x_train.shape[0], 3, img_rows, img_cols)\n",
        "    x_test = x_test.reshape(x_test.shape[0], 3, img_rows, img_cols)\n",
        "    input_shape = (3, img_rows, img_cols)\n",
        "else:\n",
        "    x_train = x_train.reshape(x_train.shape[0], img_rows, img_cols, 3)\n",
        "    x_test = x_test.reshape(x_test.shape[0], img_rows, img_cols, 3)\n",
        "    input_shape = (img_rows, img_cols, 3)"
      ],
      "execution_count": 0,
      "outputs": []
    },
    {
      "cell_type": "markdown",
      "metadata": {
        "id": "xhM52kZN7HXH",
        "colab_type": "text"
      },
      "source": [
        "We do not change anything in the rest of the sample code."
      ]
    },
    {
      "cell_type": "code",
      "metadata": {
        "id": "USak1Wf77HXH",
        "colab_type": "code",
        "colab": {
          "base_uri": "https://localhost:8080/",
          "height": 68
        },
        "outputId": "10e01241-fb97-43c4-ffb3-9ac5811d98eb"
      },
      "source": [
        "x_train = x_train.astype('float32')\n",
        "x_test = x_test.astype('float32')\n",
        "x_train /= 255\n",
        "x_test /= 255\n",
        "print('x_train shape:', x_train.shape)\n",
        "print(x_train.shape[0], 'train samples')\n",
        "print(x_test.shape[0], 'test samples')"
      ],
      "execution_count": 10,
      "outputs": [
        {
          "output_type": "stream",
          "text": [
            "x_train shape: (209, 64, 64, 3)\n",
            "209 train samples\n",
            "50 test samples\n"
          ],
          "name": "stdout"
        }
      ]
    },
    {
      "cell_type": "code",
      "metadata": {
        "id": "F8y6OvPD7HXJ",
        "colab_type": "code",
        "colab": {}
      },
      "source": [
        "# convert class vectors to binary class matrices\n",
        "y_train = keras.utils.to_categorical(y_train, num_classes)\n",
        "y_test = keras.utils.to_categorical(y_test, num_classes)"
      ],
      "execution_count": 0,
      "outputs": []
    },
    {
      "cell_type": "code",
      "metadata": {
        "id": "neKz2Og27HXM",
        "colab_type": "code",
        "colab": {
          "base_uri": "https://localhost:8080/",
          "height": 258
        },
        "outputId": "77d171b7-5cc9-4887-a42f-6fc1322220f7"
      },
      "source": [
        "model = Sequential()\n",
        "model.add(Conv2D(32, kernel_size=(3, 3),\n",
        "                 activation='relu',\n",
        "                 input_shape=input_shape))\n",
        "model.add(Conv2D(64, (3, 3), activation='relu'))\n",
        "model.add(MaxPooling2D(pool_size=(2, 2)))\n",
        "model.add(Dropout(rate=0.25))\n",
        "model.add(Flatten())\n",
        "model.add(Dense(128, activation='relu'))\n",
        "model.add(Dropout(rate=0.5))\n",
        "model.add(Dense(num_classes, activation='softmax'))"
      ],
      "execution_count": 12,
      "outputs": [
        {
          "output_type": "stream",
          "text": [
            "WARNING:tensorflow:From /usr/local/lib/python3.6/dist-packages/keras/backend/tensorflow_backend.py:66: The name tf.get_default_graph is deprecated. Please use tf.compat.v1.get_default_graph instead.\n",
            "\n",
            "WARNING:tensorflow:From /usr/local/lib/python3.6/dist-packages/keras/backend/tensorflow_backend.py:541: The name tf.placeholder is deprecated. Please use tf.compat.v1.placeholder instead.\n",
            "\n",
            "WARNING:tensorflow:From /usr/local/lib/python3.6/dist-packages/keras/backend/tensorflow_backend.py:4432: The name tf.random_uniform is deprecated. Please use tf.random.uniform instead.\n",
            "\n",
            "WARNING:tensorflow:From /usr/local/lib/python3.6/dist-packages/keras/backend/tensorflow_backend.py:4267: The name tf.nn.max_pool is deprecated. Please use tf.nn.max_pool2d instead.\n",
            "\n",
            "WARNING:tensorflow:From /usr/local/lib/python3.6/dist-packages/keras/backend/tensorflow_backend.py:148: The name tf.placeholder_with_default is deprecated. Please use tf.compat.v1.placeholder_with_default instead.\n",
            "\n",
            "WARNING:tensorflow:From /usr/local/lib/python3.6/dist-packages/keras/backend/tensorflow_backend.py:3733: calling dropout (from tensorflow.python.ops.nn_ops) with keep_prob is deprecated and will be removed in a future version.\n",
            "Instructions for updating:\n",
            "Please use `rate` instead of `keep_prob`. Rate should be set to `rate = 1 - keep_prob`.\n"
          ],
          "name": "stdout"
        }
      ]
    },
    {
      "cell_type": "code",
      "metadata": {
        "id": "Fr6FhVxJ7HXO",
        "colab_type": "code",
        "colab": {
          "base_uri": "https://localhost:8080/",
          "height": 425
        },
        "outputId": "d8cd1ae1-6853-48f0-bcf2-b13b675df8e0"
      },
      "source": [
        "model.summary()"
      ],
      "execution_count": 13,
      "outputs": [
        {
          "output_type": "stream",
          "text": [
            "Model: \"sequential_1\"\n",
            "_________________________________________________________________\n",
            "Layer (type)                 Output Shape              Param #   \n",
            "=================================================================\n",
            "conv2d_1 (Conv2D)            (None, 62, 62, 32)        896       \n",
            "_________________________________________________________________\n",
            "conv2d_2 (Conv2D)            (None, 60, 60, 64)        18496     \n",
            "_________________________________________________________________\n",
            "max_pooling2d_1 (MaxPooling2 (None, 30, 30, 64)        0         \n",
            "_________________________________________________________________\n",
            "dropout_1 (Dropout)          (None, 30, 30, 64)        0         \n",
            "_________________________________________________________________\n",
            "flatten_1 (Flatten)          (None, 57600)             0         \n",
            "_________________________________________________________________\n",
            "dense_1 (Dense)              (None, 128)               7372928   \n",
            "_________________________________________________________________\n",
            "dropout_2 (Dropout)          (None, 128)               0         \n",
            "_________________________________________________________________\n",
            "dense_2 (Dense)              (None, 2)                 258       \n",
            "=================================================================\n",
            "Total params: 7,392,578\n",
            "Trainable params: 7,392,578\n",
            "Non-trainable params: 0\n",
            "_________________________________________________________________\n"
          ],
          "name": "stdout"
        }
      ]
    },
    {
      "cell_type": "code",
      "metadata": {
        "id": "UXHzlUhh7HXP",
        "colab_type": "code",
        "colab": {
          "base_uri": "https://localhost:8080/",
          "height": 105
        },
        "outputId": "63960ae8-ae87-42b9-eed6-f5ae76e297d5"
      },
      "source": [
        "model.compile(loss=keras.losses.categorical_crossentropy,\n",
        "              optimizer=keras.optimizers.Adadelta(),\n",
        "              metrics=['accuracy'])"
      ],
      "execution_count": 14,
      "outputs": [
        {
          "output_type": "stream",
          "text": [
            "WARNING:tensorflow:From /usr/local/lib/python3.6/dist-packages/keras/optimizers.py:793: The name tf.train.Optimizer is deprecated. Please use tf.compat.v1.train.Optimizer instead.\n",
            "\n",
            "WARNING:tensorflow:From /usr/local/lib/python3.6/dist-packages/keras/backend/tensorflow_backend.py:3576: The name tf.log is deprecated. Please use tf.math.log instead.\n",
            "\n"
          ],
          "name": "stdout"
        }
      ]
    },
    {
      "cell_type": "code",
      "metadata": {
        "scrolled": false,
        "id": "rSfXPFJO7HXR",
        "colab_type": "code",
        "colab": {
          "base_uri": "https://localhost:8080/",
          "height": 819
        },
        "outputId": "e8bf418a-0f8d-4ff5-f54e-bfc0eeff4792"
      },
      "source": [
        "history = model.fit(x_train, y_train,\n",
        "                    batch_size=batch_size,\n",
        "                    epochs=12,\n",
        "                    verbose=1,\n",
        "                    validation_data=(x_test, y_test)) # add this argument is to write logs\n",
        "score = model.evaluate(x_test, y_test, verbose=0)\n",
        "print('Test loss:', score[0])\n",
        "print('Test accuracy:', score[1])"
      ],
      "execution_count": 15,
      "outputs": [
        {
          "output_type": "stream",
          "text": [
            "WARNING:tensorflow:From /tensorflow-1.15.2/python3.6/tensorflow_core/python/ops/math_grad.py:1424: where (from tensorflow.python.ops.array_ops) is deprecated and will be removed in a future version.\n",
            "Instructions for updating:\n",
            "Use tf.where in 2.0, which has the same broadcast rule as np.where\n",
            "WARNING:tensorflow:From /usr/local/lib/python3.6/dist-packages/keras/backend/tensorflow_backend.py:1033: The name tf.assign_add is deprecated. Please use tf.compat.v1.assign_add instead.\n",
            "\n",
            "WARNING:tensorflow:From /usr/local/lib/python3.6/dist-packages/keras/backend/tensorflow_backend.py:1020: The name tf.assign is deprecated. Please use tf.compat.v1.assign instead.\n",
            "\n",
            "WARNING:tensorflow:From /usr/local/lib/python3.6/dist-packages/keras/backend/tensorflow_backend.py:3005: The name tf.Session is deprecated. Please use tf.compat.v1.Session instead.\n",
            "\n",
            "Train on 209 samples, validate on 50 samples\n",
            "Epoch 1/12\n",
            "WARNING:tensorflow:From /usr/local/lib/python3.6/dist-packages/keras/backend/tensorflow_backend.py:190: The name tf.get_default_session is deprecated. Please use tf.compat.v1.get_default_session instead.\n",
            "\n",
            "WARNING:tensorflow:From /usr/local/lib/python3.6/dist-packages/keras/backend/tensorflow_backend.py:197: The name tf.ConfigProto is deprecated. Please use tf.compat.v1.ConfigProto instead.\n",
            "\n",
            "WARNING:tensorflow:From /usr/local/lib/python3.6/dist-packages/keras/backend/tensorflow_backend.py:207: The name tf.global_variables is deprecated. Please use tf.compat.v1.global_variables instead.\n",
            "\n",
            "WARNING:tensorflow:From /usr/local/lib/python3.6/dist-packages/keras/backend/tensorflow_backend.py:216: The name tf.is_variable_initialized is deprecated. Please use tf.compat.v1.is_variable_initialized instead.\n",
            "\n",
            "WARNING:tensorflow:From /usr/local/lib/python3.6/dist-packages/keras/backend/tensorflow_backend.py:223: The name tf.variables_initializer is deprecated. Please use tf.compat.v1.variables_initializer instead.\n",
            "\n",
            "209/209 [==============================] - 3s 14ms/step - loss: 0.6836 - acc: 0.5646 - val_loss: 10.2628 - val_acc: 0.3400\n",
            "Epoch 2/12\n",
            "209/209 [==============================] - 0s 234us/step - loss: 5.0286 - acc: 0.6555 - val_loss: 0.9209 - val_acc: 0.6600\n",
            "Epoch 3/12\n",
            "209/209 [==============================] - 0s 200us/step - loss: 1.8534 - acc: 0.3828 - val_loss: 1.7004 - val_acc: 0.3400\n",
            "Epoch 4/12\n",
            "209/209 [==============================] - 0s 212us/step - loss: 1.0210 - acc: 0.6555 - val_loss: 0.7442 - val_acc: 0.3400\n",
            "Epoch 5/12\n",
            "209/209 [==============================] - 0s 215us/step - loss: 0.6419 - acc: 0.6411 - val_loss: 0.8051 - val_acc: 0.3400\n",
            "Epoch 6/12\n",
            "209/209 [==============================] - 0s 211us/step - loss: 0.6195 - acc: 0.6555 - val_loss: 0.8442 - val_acc: 0.3400\n",
            "Epoch 7/12\n",
            "209/209 [==============================] - 0s 201us/step - loss: 0.6082 - acc: 0.6603 - val_loss: 0.6803 - val_acc: 0.3400\n",
            "Epoch 8/12\n",
            "209/209 [==============================] - 0s 218us/step - loss: 0.5937 - acc: 0.6842 - val_loss: 1.1610 - val_acc: 0.3400\n",
            "Epoch 9/12\n",
            "209/209 [==============================] - 0s 211us/step - loss: 0.6559 - acc: 0.6555 - val_loss: 0.6866 - val_acc: 0.3400\n",
            "Epoch 10/12\n",
            "209/209 [==============================] - 0s 204us/step - loss: 0.6451 - acc: 0.6555 - val_loss: 0.7235 - val_acc: 0.3400\n",
            "Epoch 11/12\n",
            "209/209 [==============================] - 0s 207us/step - loss: 0.6140 - acc: 0.6699 - val_loss: 0.7525 - val_acc: 0.3400\n",
            "Epoch 12/12\n",
            "209/209 [==============================] - 0s 209us/step - loss: 0.5937 - acc: 0.6603 - val_loss: 0.7650 - val_acc: 0.3400\n",
            "Test loss: 0.764959511756897\n",
            "Test accuracy: 0.34\n"
          ],
          "name": "stdout"
        }
      ]
    },
    {
      "cell_type": "markdown",
      "metadata": {
        "id": "BwcO8JvG7HXU",
        "colab_type": "text"
      },
      "source": [
        "Train and log the configuration: **ADA, EPOCH = 30**"
      ]
    },
    {
      "cell_type": "code",
      "metadata": {
        "id": "6LhLZOve7HXU",
        "colab_type": "code",
        "colab": {
          "base_uri": "https://localhost:8080/",
          "height": 68
        },
        "outputId": "23b8c33c-1336-4b5f-e3d5-cd5de96dfb0c"
      },
      "source": [
        "tbc = TensorBoardColab()"
      ],
      "execution_count": 16,
      "outputs": [
        {
          "output_type": "stream",
          "text": [
            "Wait for 8 seconds...\n",
            "TensorBoard link:\n",
            "https://e1270010.ngrok.io\n"
          ],
          "name": "stdout"
        }
      ]
    },
    {
      "cell_type": "code",
      "metadata": {
        "scrolled": true,
        "id": "KwAEBdwD7HXW",
        "colab_type": "code",
        "colab": {
          "base_uri": "https://localhost:8080/",
          "height": 173
        },
        "outputId": "dbf71aa4-3a2e-4ccf-b5ce-3cce0c096aa1"
      },
      "source": [
        "history1 = model.fit(x_train, y_train,\n",
        "                     batch_size=batch_size,\n",
        "                     epochs=30,\n",
        "                     verbose=0,\n",
        "                     validation_data=(x_test, y_test), \n",
        "                     callbacks=[TensorBoardColabCallback(tbc)] # add this argument is to write logs\n",
        "                     ) \n",
        "score1 = model.evaluate(x_test, y_test, verbose=0)\n",
        "print('Test loss:', score1[0])\n",
        "print('Test accuracy:', score1[1])"
      ],
      "execution_count": 17,
      "outputs": [
        {
          "output_type": "stream",
          "text": [
            "WARNING:tensorflow:From /usr/local/lib/python3.6/dist-packages/tensorboardcolab/core.py:49: The name tf.summary.FileWriter is deprecated. Please use tf.compat.v1.summary.FileWriter instead.\n",
            "\n",
            "WARNING:tensorflow:From /usr/local/lib/python3.6/dist-packages/keras/callbacks.py:1122: The name tf.summary.merge_all is deprecated. Please use tf.compat.v1.summary.merge_all instead.\n",
            "\n",
            "WARNING:tensorflow:From /usr/local/lib/python3.6/dist-packages/tensorboardcolab/callbacks.py:51: The name tf.Summary is deprecated. Please use tf.compat.v1.Summary instead.\n",
            "\n",
            "Test loss: 1.0439030146598816\n",
            "Test accuracy: 0.38\n"
          ],
          "name": "stdout"
        }
      ]
    },
    {
      "cell_type": "markdown",
      "metadata": {
        "id": "un8GBUhK7HXX",
        "colab_type": "text"
      },
      "source": [
        "Train and log the configuration: **SGD, LR = 0.001, EPOCH = 30**"
      ]
    },
    {
      "cell_type": "code",
      "metadata": {
        "id": "uget4YUfyBnf",
        "colab_type": "code",
        "colab": {
          "base_uri": "https://localhost:8080/",
          "height": 68
        },
        "outputId": "b9fdb0f6-650f-4512-ca3b-199a793717bd"
      },
      "source": [
        "tbc = TensorBoardColab()"
      ],
      "execution_count": 18,
      "outputs": [
        {
          "output_type": "stream",
          "text": [
            "Wait for 8 seconds...\n",
            "TensorBoard link:\n",
            "https://e1270010.ngrok.io\n"
          ],
          "name": "stdout"
        }
      ]
    },
    {
      "cell_type": "code",
      "metadata": {
        "id": "qLc0NBrj7HXY",
        "colab_type": "code",
        "colab": {}
      },
      "source": [
        "model.compile(loss=keras.losses.categorical_crossentropy,\n",
        "              optimizer=keras.optimizers.SGD(lr=0.001),\n",
        "              metrics=['accuracy'])"
      ],
      "execution_count": 0,
      "outputs": []
    },
    {
      "cell_type": "code",
      "metadata": {
        "scrolled": true,
        "id": "X4Bt88QH7HXZ",
        "colab_type": "code",
        "outputId": "0c6898d7-a46f-43ae-f5dd-a27d06ddf6e3",
        "colab": {
          "base_uri": "https://localhost:8080/",
          "height": 51
        }
      },
      "source": [
        "history2 = model.fit(x_train, y_train,\n",
        "                     batch_size=batch_size,\n",
        "                     epochs=30,\n",
        "                     verbose=0,\n",
        "                     validation_data=(x_test, y_test), \n",
        "                     callbacks=[TensorBoardColabCallback(tbc)] # add this argument is to write logs\n",
        "                     ) \n",
        "score2 = model.evaluate(x_test, y_test, verbose=0)\n",
        "print('Test loss:', score2[0])\n",
        "print('Test accuracy:', score2[1])"
      ],
      "execution_count": 20,
      "outputs": [
        {
          "output_type": "stream",
          "text": [
            "Test loss: 0.6045453333854676\n",
            "Test accuracy: 0.7000000071525574\n"
          ],
          "name": "stdout"
        }
      ]
    },
    {
      "cell_type": "markdown",
      "metadata": {
        "id": "HGbeeCar7HXb",
        "colab_type": "text"
      },
      "source": [
        "Train and log the configuration: **SGD, LRs = [0.009, 0.01, 0.011, 0.012, 0.013], EPOCH = 50**"
      ]
    },
    {
      "cell_type": "code",
      "metadata": {
        "id": "nN2pqXcK7HXb",
        "colab_type": "code",
        "colab": {}
      },
      "source": [
        "lrs = [0.01, 0.0125, 0.015, 0.0175, 0.02]"
      ],
      "execution_count": 0,
      "outputs": []
    },
    {
      "cell_type": "code",
      "metadata": {
        "id": "XgYcTC8H7HXd",
        "colab_type": "code",
        "colab": {
          "base_uri": "https://localhost:8080/",
          "height": 612
        },
        "outputId": "831d3b49-1659-4882-c0ee-518da987cc11"
      },
      "source": [
        "histories = []\n",
        "scores = []\n",
        "tbcs = []\n",
        "\n",
        "for lr in lrs:\n",
        "\n",
        "    tbc = TensorBoardColab()\n",
        "\n",
        "    model.compile(loss=keras.losses.categorical_crossentropy,\n",
        "                  optimizer=keras.optimizers.SGD(lr=lr),\n",
        "                  metrics=['accuracy'])\n",
        "    \n",
        "    histories.append(\n",
        "        model.fit(x_train, y_train,\n",
        "                  batch_size=batch_size,\n",
        "                  epochs=50,\n",
        "                  verbose=0,\n",
        "                  validation_data=(x_test, y_test), \n",
        "                  callbacks=[TensorBoardColabCallback(tbc)] # add this argument is to write logs\n",
        "                  )\n",
        "        )\n",
        "\n",
        "    scores.append(model.evaluate(x_test, y_test, verbose=0))\n",
        "    print('--- SGD (LR = {}, EPOCH = 50) ---'.format(lr))\n",
        "    print('Test loss:', scores[-1][0])\n",
        "    print('Test accuracy:', scores[-1][1])\n",
        "    print()"
      ],
      "execution_count": 22,
      "outputs": [
        {
          "output_type": "stream",
          "text": [
            "Wait for 8 seconds...\n",
            "TensorBoard link:\n",
            "https://e1270010.ngrok.io\n",
            "--- SGD (LR = 0.01, EPOCH = 50) ---\n",
            "Test loss: 0.5073544406890869\n",
            "Test accuracy: 0.7800000047683716\n",
            "\n",
            "Wait for 8 seconds...\n",
            "TensorBoard link:\n",
            "https://e1270010.ngrok.io\n",
            "--- SGD (LR = 0.0125, EPOCH = 50) ---\n",
            "Test loss: 0.5343038725852967\n",
            "Test accuracy: 0.8599999904632568\n",
            "\n",
            "Wait for 8 seconds...\n",
            "TensorBoard link:\n",
            "http://e1270010.ngrok.io\n",
            "--- SGD (LR = 0.015, EPOCH = 50) ---\n",
            "Test loss: 0.4713124775886536\n",
            "Test accuracy: 0.8600000023841858\n",
            "\n",
            "Wait for 8 seconds...\n",
            "TensorBoard link:\n",
            "https://e1270010.ngrok.io\n",
            "--- SGD (LR = 0.0175, EPOCH = 50) ---\n",
            "Test loss: 0.4988833975791931\n",
            "Test accuracy: 0.8000000071525574\n",
            "\n",
            "Wait for 8 seconds...\n",
            "TensorBoard link:\n",
            "https://e1270010.ngrok.io\n",
            "--- SGD (LR = 0.02, EPOCH = 50) ---\n",
            "Test loss: 0.4547306108474731\n",
            "Test accuracy: 0.8600000023841858\n",
            "\n"
          ],
          "name": "stdout"
        }
      ]
    }
  ]
}